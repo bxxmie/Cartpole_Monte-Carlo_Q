{
 "cells": [
  {
   "cell_type": "code",
   "execution_count": null,
   "metadata": {},
   "outputs": [],
   "source": [
    "import gym\n",
    "import tensorflow as tf\n",
    "import numpy as np\n",
    "import random\n",
    "import os.path\n",
    "\n",
    "env = gym.make('CartPole-v1')\n",
    "weight_path = 'cartpole_mcq.h5'\n",
    "\n",
    "model = tf.keras.Sequential()\n",
    "model.add(tf.keras.layers.Dense(32,input_shape=(4,),activation='relu'))\n",
    "model.add(tf.keras.layers.Dense(32,activation='relu'))\n",
    "model.add(tf.keras.layers.Dense(2,activation='linear'))\n",
    "\n",
    "if os.path.isfile(weight_path):\n",
    "    print('loading weight')\n",
    "    model.load_weights(weight_path)\n",
    "    \n",
    "model.compile(optimizer='adam', loss='mse')\n",
    "model.summary()"
   ]
  },
  {
   "cell_type": "code",
   "execution_count": null,
   "metadata": {
    "scrolled": true
   },
   "outputs": [],
   "source": [
    "def get_action(q):\n",
    "    e = 0.05\n",
    "    if random.random() < e:\n",
    "        return random.randrange(0,2)\n",
    "    return np.argmax(q)\n",
    "\n",
    "while True:\n",
    "    state = env.reset()\n",
    "    state_array = state.reshape(1,4)\n",
    "    done = False\n",
    "    action_list =[]\n",
    "    reward_list =[]\n",
    "    q_list = []\n",
    "    while not done:\n",
    "        q_values = model.predict(state.reshape(1,4))\n",
    "        action = get_action(q_values)\n",
    "        q_list.append([q_values])\n",
    "        state, reward, done, _ = env.step(action)\n",
    "        action_list.append(action)\n",
    "        reward_list.append(reward/500)\n",
    "        if not done:\n",
    "            state_array = np.append(state_array,state[np.newaxis,:],axis=0)\n",
    "        env.render()\n",
    "\n",
    "    q_array = np.squeeze( np.vstack(q_list))\n",
    "\n",
    "    reward_sum =0\n",
    "    for q,a,r in zip(q_array[::-1], action_list[::-1], reward_list[::-1]):\n",
    "        reward_sum += r\n",
    "        q[a] += (reward_sum -q[a]) * 0.05\n",
    "        \n",
    "    print(reward_sum)\n",
    "\n",
    "    model.fit(state_array,q_array,epochs=1, verbose=0)\n",
    "    \n",
    "    if reward_sum >= 0.99:\n",
    "        model.save_weights('cartpole_mcq.h5')\n",
    "        break\n",
    "        \n",
    "env.close()"
   ]
  }
 ],
 "metadata": {
  "kernelspec": {
   "display_name": "tf2",
   "language": "python",
   "name": "tf2"
  },
  "language_info": {
   "codemirror_mode": {
    "name": "ipython",
    "version": 3
   },
   "file_extension": ".py",
   "mimetype": "text/x-python",
   "name": "python",
   "nbconvert_exporter": "python",
   "pygments_lexer": "ipython3",
   "version": "3.7.9"
  }
 },
 "nbformat": 4,
 "nbformat_minor": 2
}
